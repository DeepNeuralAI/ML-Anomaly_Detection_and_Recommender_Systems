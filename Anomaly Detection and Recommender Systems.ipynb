{
 "cells": [
  {
   "cell_type": "markdown",
   "metadata": {
    "heading_collapsed": true
   },
   "source": [
    "# Anomaly Detection"
   ]
  },
  {
   "cell_type": "markdown",
   "metadata": {
    "heading_collapsed": true,
    "hidden": true
   },
   "source": [
    "## Gaussian Distribution"
   ]
  },
  {
   "cell_type": "markdown",
   "metadata": {
    "hidden": true
   },
   "source": [
    "### Imports"
   ]
  },
  {
   "cell_type": "code",
   "execution_count": 1740,
   "metadata": {
    "ExecuteTime": {
     "end_time": "2019-07-26T22:33:34.193012Z",
     "start_time": "2019-07-26T22:33:34.188569Z"
    },
    "hidden": true
   },
   "outputs": [],
   "source": [
    "from scipy.io import loadmat\n",
    "import matplotlib.pyplot as plt\n",
    "import pandas as pd\n",
    "import numpy as np\n",
    "\n",
    "%matplotlib inline"
   ]
  },
  {
   "cell_type": "markdown",
   "metadata": {
    "hidden": true
   },
   "source": [
    "### Visualize Dataset"
   ]
  },
  {
   "cell_type": "code",
   "execution_count": 1741,
   "metadata": {
    "ExecuteTime": {
     "end_time": "2019-07-26T22:33:34.278741Z",
     "start_time": "2019-07-26T22:33:34.276170Z"
    },
    "hidden": true
   },
   "outputs": [],
   "source": [
    "data = loadmat('./ex8/ex8data1.mat')"
   ]
  },
  {
   "cell_type": "code",
   "execution_count": 1742,
   "metadata": {
    "ExecuteTime": {
     "end_time": "2019-07-26T22:33:34.282995Z",
     "start_time": "2019-07-26T22:33:34.280424Z"
    },
    "hidden": true
   },
   "outputs": [],
   "source": [
    "X = data['X']\n",
    "Xval = data['Xval']\n",
    "yval = data['yval']"
   ]
  },
  {
   "cell_type": "code",
   "execution_count": 1743,
   "metadata": {
    "ExecuteTime": {
     "end_time": "2019-07-26T22:33:34.426812Z",
     "start_time": "2019-07-26T22:33:34.284824Z"
    },
    "hidden": true
   },
   "outputs": [
    {
     "data": {
      "image/png": "[encoded data removed]",
      "text/plain": [
       "<Figure size 432x288 with 1 Axes>"
      ]
     },
     "metadata": {
      "needs_background": "light"
     },
     "output_type": "display_data"
    }
   ],
   "source": [
    "plt.scatter(X[:, 0:1], X[:, 1:2]);\n",
    "plt.ylabel('Throughput mb/s');\n",
    "plt.xlabel('Latency ms');"
   ]
  },
  {
   "cell_type": "markdown",
   "metadata": {
    "heading_collapsed": true,
    "hidden": true
   },
   "source": [
    "## Estimating parameters for a Gaussian"
   ]
  },
  {
   "cell_type": "code",
   "execution_count": 1744,
   "metadata": {
    "ExecuteTime": {
     "end_time": "2019-07-26T22:33:34.431227Z",
     "start_time": "2019-07-26T22:33:34.428399Z"
    },
    "hidden": true
   },
   "outputs": [],
   "source": [
    "def estimate_gaussian_parameters(X):\n",
    "    mu = np.average(X, axis = 0)\n",
    "    variance = np.mean((X - mu)**2,axis=0)\n",
    "    return mu, variance"
   ]
  },
  {
   "cell_type": "code",
   "execution_count": 1745,
   "metadata": {
    "ExecuteTime": {
     "end_time": "2019-07-26T22:33:34.436373Z",
     "start_time": "2019-07-26T22:33:34.433126Z"
    },
    "hidden": true
   },
   "outputs": [],
   "source": [
    "def gaussian_distribution(X, mu, sigma2):\n",
    "    exp_term = -(X - mu) ** 2 / (2 * sigma2)\n",
    "    exp_term = np.exp(exp_term)\n",
    "    constant = np.sqrt(2 * np.pi * sigma2)\n",
    "    constant = 1 / constant\n",
    "    return constant * exp_term"
   ]
  },
  {
   "cell_type": "code",
   "execution_count": 1746,
   "metadata": {
    "ExecuteTime": {
     "end_time": "2019-07-26T22:33:34.440697Z",
     "start_time": "2019-07-26T22:33:34.438191Z"
    },
    "hidden": true
   },
   "outputs": [],
   "source": [
    "def covariance_matrix(X, mu):\n",
    "    x = (X - mu) @ (X - mu).T\n",
    "    return x / len(x)"
   ]
  },
  {
   "cell_type": "code",
   "execution_count": 1747,
   "metadata": {
    "ExecuteTime": {
     "end_time": "2019-07-26T22:33:34.446379Z",
     "start_time": "2019-07-26T22:33:34.442283Z"
    },
    "hidden": true
   },
   "outputs": [],
   "source": [
    "def multivariate_gaussian(X, mu, sigma2):\n",
    "    \"\"\"\n",
    "    Computes the probability density function of the multivariate gaussian distribution.\n",
    "    \"\"\"\n",
    "    \n",
    "    k = len(mu)\n",
    "    sigma2=np.diag(sigma2)\n",
    "    \n",
    "    X = X - mu.T\n",
    "    p = 1/((2*np.pi)**(k/2)*(np.linalg.det(sigma2)**0.5))* np.exp(-0.5* np.sum(X @ np.linalg.pinv(sigma2) * X,axis=1))\n",
    "    return p\n"
   ]
  },
  {
   "cell_type": "markdown",
   "metadata": {
    "heading_collapsed": true,
    "hidden": true
   },
   "source": [
    "## Visualize Gaussian "
   ]
  },
  {
   "cell_type": "code",
   "execution_count": 1748,
   "metadata": {
    "ExecuteTime": {
     "end_time": "2019-07-26T22:33:34.450146Z",
     "start_time": "2019-07-26T22:33:34.447806Z"
    },
    "hidden": true
   },
   "outputs": [],
   "source": [
    "mesh_values = np.linspace(0, 35, 70)"
   ]
  },
  {
   "cell_type": "code",
   "execution_count": 1749,
   "metadata": {
    "ExecuteTime": {
     "end_time": "2019-07-26T22:33:34.454339Z",
     "start_time": "2019-07-26T22:33:34.451491Z"
    },
    "hidden": true
   },
   "outputs": [],
   "source": [
    "mu, sigma2 = estimate_gaussian_parameters(X)"
   ]
  },
  {
   "cell_type": "code",
   "execution_count": 1750,
   "metadata": {
    "ExecuteTime": {
     "end_time": "2019-07-26T22:33:34.458644Z",
     "start_time": "2019-07-26T22:33:34.456259Z"
    },
    "hidden": true
   },
   "outputs": [],
   "source": [
    "X1, X2 = np.meshgrid(mesh_values, mesh_values)"
   ]
  },
  {
   "cell_type": "code",
   "execution_count": 1751,
   "metadata": {
    "ExecuteTime": {
     "end_time": "2019-07-26T22:33:34.462878Z",
     "start_time": "2019-07-26T22:33:34.460223Z"
    },
    "hidden": true
   },
   "outputs": [],
   "source": [
    "X_star = np.hstack((X1.reshape((-1,1)), X2.reshape((-1,1))))"
   ]
  },
  {
   "cell_type": "code",
   "execution_count": 1752,
   "metadata": {
    "ExecuteTime": {
     "end_time": "2019-07-26T22:33:34.467326Z",
     "start_time": "2019-07-26T22:33:34.464307Z"
    },
    "hidden": true
   },
   "outputs": [],
   "source": [
    "p_star = multivariate_gaussian(X_star, mu, sigma2)"
   ]
  },
  {
   "cell_type": "code",
   "execution_count": 1753,
   "metadata": {
    "ExecuteTime": {
     "end_time": "2019-07-26T22:33:34.605197Z",
     "start_time": "2019-07-26T22:33:34.468727Z"
    },
    "hidden": true
   },
   "outputs": [
    {
     "data": {
      "text/plain": [
       "(0, 27)"
      ]
     },
     "execution_count": 1753,
     "metadata": {},
     "output_type": "execute_result"
    },
    {
     "data": {
      "image/png": "[encoded data removed]",
      "text/plain": [
       "<Figure size 432x288 with 1 Axes>"
      ]
     },
     "metadata": {
      "needs_background": "light"
     },
     "output_type": "display_data"
    }
   ],
   "source": [
    "plt.rcParams['contour.negative_linestyle'] = 'solid'\n",
    "plt.contour(X1, X2, p_star.reshape(X1.shape), 6, \n",
    "           linewidths=np.arange(.5, 4, .5))\n",
    "plt.scatter(X[:, 0:1], X[:, 1:2]);\n",
    "plt.ylabel('Throughput mb/s');\n",
    "plt.xlabel('Latency ms');\n",
    "plt.xlim([0, 27])\n",
    "plt.ylim([0, 27])"
   ]
  },
  {
   "cell_type": "markdown",
   "metadata": {
    "heading_collapsed": true,
    "hidden": true
   },
   "source": [
    "## Selecting the threshold $\\epsilon$"
   ]
  },
  {
   "cell_type": "markdown",
   "metadata": {
    "hidden": true
   },
   "source": [
    "Now that we have estimated the Gaussian parameters, we can investigate which examples have a very high probability given this distribution and which examples have a very low probability. \n",
    "\n",
    "The low probability examples are more likely to be the anomalies in our dataset."
   ]
  },
  {
   "cell_type": "code",
   "execution_count": 1754,
   "metadata": {
    "ExecuteTime": {
     "end_time": "2019-07-26T22:33:34.611045Z",
     "start_time": "2019-07-26T22:33:34.607066Z"
    },
    "hidden": true
   },
   "outputs": [],
   "source": [
    "def metrics(predictions, actual):\n",
    "    tp = np.sum((predictions == True) & (actual == 1), 1)\n",
    "    fp = np.sum((predictions == True) & (actual == 0), 1)\n",
    "    tn = np.sum((predictions == False) & (actual == 0), 1)\n",
    "    fn = np.sum((predictions == False) & (actual == 1), 1)\n",
    "    return tp, fp, tn, fn"
   ]
  },
  {
   "cell_type": "code",
   "execution_count": 1755,
   "metadata": {
    "ExecuteTime": {
     "end_time": "2019-07-26T22:33:34.615273Z",
     "start_time": "2019-07-26T22:33:34.612858Z"
    },
    "hidden": true
   },
   "outputs": [],
   "source": [
    "def precision_metric(tp, fp):\n",
    "    return tp / (tp + fp) "
   ]
  },
  {
   "cell_type": "code",
   "execution_count": 1756,
   "metadata": {
    "ExecuteTime": {
     "end_time": "2019-07-26T22:33:34.619001Z",
     "start_time": "2019-07-26T22:33:34.616727Z"
    },
    "hidden": true
   },
   "outputs": [],
   "source": [
    "def recall_metric(tp, fn):\n",
    "    return tp / (tp + fn)"
   ]
  },
  {
   "cell_type": "code",
   "execution_count": 1757,
   "metadata": {
    "ExecuteTime": {
     "end_time": "2019-07-26T22:33:34.622961Z",
     "start_time": "2019-07-26T22:33:34.620349Z"
    },
    "hidden": true
   },
   "outputs": [],
   "source": [
    "def f1_score(precision, recall):\n",
    "    return (2* precision * recall) / (precision + recall)"
   ]
  },
  {
   "cell_type": "code",
   "execution_count": 1758,
   "metadata": {
    "ExecuteTime": {
     "end_time": "2019-07-26T22:33:34.630002Z",
     "start_time": "2019-07-26T22:33:34.624413Z"
    },
    "hidden": true
   },
   "outputs": [],
   "source": [
    "def select_threshold(yval, pval): \n",
    "    \"\"\"\n",
    "    Find the best threshold (epsilon) to use for selecting outliers\n",
    "    \"\"\"\n",
    "    best_epi = 0\n",
    "    best_F1 = 0\n",
    "    \n",
    "    stepsize = (max(pval) -min(pval))/1000\n",
    "    epi_range = np.arange(pval.min(),pval.max(),stepsize)\n",
    "    for epi in epi_range:\n",
    "        predictions = (pval<epi)[:,np.newaxis]\n",
    "        tp = np.sum(predictions[yval==1]==1)\n",
    "        fp = np.sum(predictions[yval==0]==1)\n",
    "        fn = np.sum(predictions[yval==1]==0)\n",
    "        \n",
    "        # compute precision, recall and F1\n",
    "        prec = tp/(tp+fp)\n",
    "        rec = tp/(tp+fn)\n",
    "        \n",
    "        F1 = (2*prec*rec)/(prec+rec)\n",
    "        \n",
    "        if F1 > best_F1:\n",
    "            best_F1 =F1\n",
    "            best_epi = epi\n",
    "        \n",
    "    return best_epi, best_F1"
   ]
  },
  {
   "cell_type": "markdown",
   "metadata": {
    "heading_collapsed": true,
    "hidden": true
   },
   "source": [
    "## Anomalies"
   ]
  },
  {
   "cell_type": "code",
   "execution_count": 1759,
   "metadata": {
    "ExecuteTime": {
     "end_time": "2019-07-26T22:33:34.714540Z",
     "start_time": "2019-07-26T22:33:34.669710Z"
    },
    "hidden": true
   },
   "outputs": [
    {
     "name": "stdout",
     "output_type": "stream",
     "text": [
      "Best epsilon found using cross-validation: 8.990852779269496e-05\n",
      "Best F1 on Cross Validation Set: 0.8750000000000001\n"
     ]
    },
    {
     "name": "stderr",
     "output_type": "stream",
     "text": [
      "/Users/aaron/anaconda3/lib/python3.7/site-packages/ipykernel_launcher.py:17: RuntimeWarning: invalid value encountered in long_scalars\n"
     ]
    }
   ],
   "source": [
    "p = multivariate_gaussian(X, mu, sigma2)\n",
    "pval = multivariate_gaussian(Xval, mu, sigma2)\n",
    "epsilon, F1 = select_threshold(yval, pval)\n",
    "print(\"Best epsilon found using cross-validation:\",epsilon)\n",
    "print(\"Best F1 on Cross Validation Set:\",F1)"
   ]
  },
  {
   "cell_type": "code",
   "execution_count": 1760,
   "metadata": {
    "ExecuteTime": {
     "end_time": "2019-07-26T22:33:34.718592Z",
     "start_time": "2019-07-26T22:33:34.716052Z"
    },
    "hidden": true
   },
   "outputs": [],
   "source": [
    "anomaly_index = multivariate_gaussian(X, mu, sigma2) < epsilon\n",
    "outliers = X[anomaly_index]"
   ]
  },
  {
   "cell_type": "code",
   "execution_count": 1761,
   "metadata": {
    "ExecuteTime": {
     "end_time": "2019-07-26T22:33:34.724022Z",
     "start_time": "2019-07-26T22:33:34.720145Z"
    },
    "hidden": true
   },
   "outputs": [],
   "source": [
    "mesh_values = np.linspace(0, 35, 70)\n",
    "\n",
    "X1, X2 = np.meshgrid(mesh_values, mesh_values)\n",
    "\n",
    "X_star = np.hstack((X1.reshape((-1,1)), X2.reshape((-1,1))))\n",
    "\n",
    "contour_level = 10**np.array([np.arange(-20,0,3,dtype=np.float)]).T"
   ]
  },
  {
   "cell_type": "code",
   "execution_count": 1762,
   "metadata": {
    "ExecuteTime": {
     "end_time": "2019-07-26T22:33:34.728117Z",
     "start_time": "2019-07-26T22:33:34.725587Z"
    },
    "hidden": true
   },
   "outputs": [],
   "source": [
    "p2 = multivariate_gaussian(X_star, mu, sigma2)"
   ]
  },
  {
   "cell_type": "code",
   "execution_count": 1763,
   "metadata": {
    "ExecuteTime": {
     "end_time": "2019-07-26T22:33:34.873167Z",
     "start_time": "2019-07-26T22:33:34.729467Z"
    },
    "hidden": true
   },
   "outputs": [
    {
     "data": {
      "text/plain": [
       "<matplotlib.collections.PathCollection at 0x132ff7efd0>"
      ]
     },
     "execution_count": 1763,
     "metadata": {},
     "output_type": "execute_result"
    },
    {
     "data": {
      "image/png": "[encoded data removed]",
      "text/plain": [
       "<Figure size 576x432 with 1 Axes>"
      ]
     },
     "metadata": {
      "needs_background": "light"
     },
     "output_type": "display_data"
    }
   ],
   "source": [
    "plt.figure(figsize=(8,6))\n",
    "plt.scatter(X[:,0],X[:,1],marker=\"x\")\n",
    "plt.ylabel('Throughput mb/s');\n",
    "plt.xlabel('Latency ms');\n",
    "plt.xlim([0, 27])\n",
    "plt.ylim([0, 27])\n",
    "# plt.plot(outliers, 'ro', linewidth=2, markersize=5);\n",
    "\n",
    "# plt.rcParams['contour.negative_linestyle'] = 'solid'\n",
    "plt.contour(X1, X2, p2[:, None].reshape(X1.shape), 2)\n",
    "\n",
    "\n",
    "# Circling of anomalies\n",
    "outliers = np.nonzero(p<epsilon)[0]\n",
    "plt.scatter(X[outliers,0],X[outliers,1],marker =\"o\",facecolor=\"none\",edgecolor=\"r\",s=70)"
   ]
  },
  {
   "cell_type": "markdown",
   "metadata": {
    "heading_collapsed": true,
    "hidden": true
   },
   "source": [
    "## High Dimensional Dataset"
   ]
  },
  {
   "cell_type": "code",
   "execution_count": 1764,
   "metadata": {
    "ExecuteTime": {
     "end_time": "2019-07-26T22:33:34.878087Z",
     "start_time": "2019-07-26T22:33:34.874882Z"
    },
    "hidden": true
   },
   "outputs": [],
   "source": [
    "data = loadmat('./ex8/ex8data2.mat')"
   ]
  },
  {
   "cell_type": "code",
   "execution_count": 1765,
   "metadata": {
    "ExecuteTime": {
     "end_time": "2019-07-26T22:33:34.881575Z",
     "start_time": "2019-07-26T22:33:34.879391Z"
    },
    "hidden": true
   },
   "outputs": [],
   "source": [
    "X = data['X']\n",
    "Xval = data['Xval']\n",
    "yval = data['yval']"
   ]
  },
  {
   "cell_type": "code",
   "execution_count": 1766,
   "metadata": {
    "ExecuteTime": {
     "end_time": "2019-07-26T22:33:34.931032Z",
     "start_time": "2019-07-26T22:33:34.882721Z"
    },
    "hidden": true
   },
   "outputs": [
    {
     "name": "stdout",
     "output_type": "stream",
     "text": [
      "Best epsilon: 1.377228890761358e-18\n",
      "-----------------------------------\n",
      "Max F1: 0.6153846153846154\n",
      "-----------------------------------\n",
      "Outliers found: 117\n"
     ]
    },
    {
     "name": "stderr",
     "output_type": "stream",
     "text": [
      "/Users/aaron/anaconda3/lib/python3.7/site-packages/ipykernel_launcher.py:17: RuntimeWarning: invalid value encountered in long_scalars\n"
     ]
    }
   ],
   "source": [
    "# compute the mean and variance\n",
    "mu, sigma2 = estimate_gaussian_parameters(X)\n",
    "# Training set\n",
    "p = multivariate_gaussian(X, mu, sigma2)\n",
    "# cross-validation set\n",
    "pval = multivariate_gaussian(Xval, mu, sigma2)\n",
    "# Find the best threshold\n",
    "epsilon, F1 = select_threshold(yval, pval)\n",
    "\n",
    "print(\"Best epsilon:\",epsilon)\n",
    "print('-----------------------------------')\n",
    "print(\"Max F1:\",F1)\n",
    "print('-----------------------------------')\n",
    "print(\"Outliers found:\",np.sum(p < epsilon))"
   ]
  },
  {
   "cell_type": "markdown",
   "metadata": {},
   "source": [
    "# Recommender Systems"
   ]
  },
  {
   "cell_type": "markdown",
   "metadata": {},
   "source": [
    "### Imports"
   ]
  },
  {
   "cell_type": "code",
   "execution_count": 1767,
   "metadata": {
    "ExecuteTime": {
     "end_time": "2019-07-26T22:33:34.936430Z",
     "start_time": "2019-07-26T22:33:34.932795Z"
    }
   },
   "outputs": [],
   "source": [
    "from scipy.io import loadmat\n",
    "import numpy as np\n",
    "import pandas as pd\n",
    "import matplotlib.pyplot as plt\n",
    "\n",
    "%matplotlib inline"
   ]
  },
  {
   "cell_type": "code",
   "execution_count": 1768,
   "metadata": {
    "ExecuteTime": {
     "end_time": "2019-07-26T22:33:34.951684Z",
     "start_time": "2019-07-26T22:33:34.938102Z"
    }
   },
   "outputs": [],
   "source": [
    "data = loadmat('./ex8/ex8_movies.mat');\n",
    "params0 = loadmat('./ex8/ex8_movieParams.mat')"
   ]
  },
  {
   "cell_type": "code",
   "execution_count": 1769,
   "metadata": {
    "ExecuteTime": {
     "end_time": "2019-07-26T22:33:34.956074Z",
     "start_time": "2019-07-26T22:33:34.953022Z"
    }
   },
   "outputs": [],
   "source": [
    "X_params = params0['X']\n",
    "Theta_params = params0['Theta']\n",
    "num_users = params0['num_users']\n",
    "num_movies = params0['num_movies']\n",
    "num_features = params0['num_features']"
   ]
  },
  {
   "cell_type": "code",
   "execution_count": 1770,
   "metadata": {
    "ExecuteTime": {
     "end_time": "2019-07-26T22:33:34.959685Z",
     "start_time": "2019-07-26T22:33:34.957661Z"
    }
   },
   "outputs": [],
   "source": [
    "Y = data['Y']\n",
    "R = data['R']"
   ]
  },
  {
   "cell_type": "code",
   "execution_count": 1771,
   "metadata": {
    "ExecuteTime": {
     "end_time": "2019-07-26T22:33:34.963978Z",
     "start_time": "2019-07-26T22:33:34.960936Z"
    }
   },
   "outputs": [
    {
     "name": "stdout",
     "output_type": "stream",
     "text": [
      "Y (num movies x num users) Shape: (1682, 943)\n",
      "R (user j, rating i) Shape: (1682, 943)\n",
      "Theta Shape: (943, 10)\n",
      "X_params Shape: (1682, 10)\n"
     ]
    }
   ],
   "source": [
    "print(f'Y (num movies x num users) Shape: {Y.shape}')\n",
    "print(f'R (user j, rating i) Shape: {R.shape}')\n",
    "print(f'Theta Shape: {Theta_params.shape}')\n",
    "print(f'X_params Shape: {X_params.shape}')"
   ]
  },
  {
   "cell_type": "code",
   "execution_count": 1772,
   "metadata": {
    "ExecuteTime": {
     "end_time": "2019-07-26T22:33:34.968431Z",
     "start_time": "2019-07-26T22:33:34.965675Z"
    }
   },
   "outputs": [],
   "source": [
    "y_df = pd.DataFrame(Y)\n",
    "r_df = pd.DataFrame(R)"
   ]
  },
  {
   "cell_type": "markdown",
   "metadata": {},
   "source": [
    "From the matrix, we can compute statistics like average rating."
   ]
  },
  {
   "cell_type": "code",
   "execution_count": 1773,
   "metadata": {
    "ExecuteTime": {
     "end_time": "2019-07-26T22:33:35.003445Z",
     "start_time": "2019-07-26T22:33:34.999080Z"
    }
   },
   "outputs": [
    {
     "name": "stdout",
     "output_type": "stream",
     "text": [
      "Average rating for movie 1 (Toy Story): 4.52\n"
     ]
    }
   ],
   "source": [
    "avg_rating = y_df.iloc[0, r_df.iloc[0, :]].mean()\n",
    "print(f'Average rating for movie 1 (Toy Story): {round(avg_rating, 2)}')"
   ]
  },
  {
   "cell_type": "markdown",
   "metadata": {},
   "source": [
    "### Visualize"
   ]
  },
  {
   "cell_type": "code",
   "execution_count": 1774,
   "metadata": {
    "ExecuteTime": {
     "end_time": "2019-07-26T22:33:35.298461Z",
     "start_time": "2019-07-26T22:33:35.085609Z"
    }
   },
   "outputs": [
    {
     "data": {
      "image/png": "[encoded data removed]",
      "text/plain": [
       "<Figure size 432x288 with 2 Axes>"
      ]
     },
     "metadata": {
      "needs_background": "light"
     },
     "output_type": "display_data"
    }
   ],
   "source": [
    "plt.imshow(Y);\n",
    "plt.ylabel('Movies');\n",
    "plt.xlabel('Users');\n",
    "plt.colorbar();"
   ]
  },
  {
   "cell_type": "markdown",
   "metadata": {},
   "source": [
    "## Collaborative Filtering Learning Algorithm"
   ]
  },
  {
   "cell_type": "markdown",
   "metadata": {},
   "source": [
    "### Collaborative Filtering Cost Function"
   ]
  },
  {
   "cell_type": "code",
   "execution_count": 1775,
   "metadata": {
    "ExecuteTime": {
     "end_time": "2019-07-26T22:33:35.302850Z",
     "start_time": "2019-07-26T22:33:35.299982Z"
    }
   },
   "outputs": [
    {
     "name": "stdout",
     "output_type": "stream",
     "text": [
      "Num Users: [943]\n",
      "Num Movies: [1682]\n",
      "Num Features: [10]\n"
     ]
    }
   ],
   "source": [
    "print(f'Num Users: {num_users.flatten()}')\n",
    "print(f'Num Movies: {num_movies.flatten()}')\n",
    "print(f'Num Features: {num_features.flatten()}')"
   ]
  },
  {
   "cell_type": "code",
   "execution_count": 1776,
   "metadata": {
    "ExecuteTime": {
     "end_time": "2019-07-26T22:33:35.306945Z",
     "start_time": "2019-07-26T22:33:35.304421Z"
    }
   },
   "outputs": [],
   "source": [
    "num_users = 4\n",
    "num_movies = 5\n",
    "num_features = 3"
   ]
  },
  {
   "cell_type": "markdown",
   "metadata": {},
   "source": [
    "### Collaborative filtering gradient"
   ]
  },
  {
   "cell_type": "code",
   "execution_count": 1777,
   "metadata": {
    "ExecuteTime": {
     "end_time": "2019-07-26T22:33:35.325062Z",
     "start_time": "2019-07-26T22:33:35.322206Z"
    }
   },
   "outputs": [],
   "source": [
    "def calculate_grads(Theta_params, X_params, Y, R):\n",
    "    X_grad = ((Theta_params @ X_params.T - Y.T) * R.T).T @ Theta_params\n",
    "    Theta_grad = ((Theta_params @ X_params.T - Y.T) * R.T) @ X_params\n",
    "    return X_grad, Theta_grad"
   ]
  },
  {
   "cell_type": "markdown",
   "metadata": {},
   "source": [
    "### Regularized cost function"
   ]
  },
  {
   "cell_type": "code",
   "execution_count": 1778,
   "metadata": {
    "ExecuteTime": {
     "end_time": "2019-07-26T22:33:35.366941Z",
     "start_time": "2019-07-26T22:33:35.364049Z"
    }
   },
   "outputs": [],
   "source": [
    "def regularized_cost(Theta_params, X_params, lmbda):\n",
    "    x_term = np.sum(X_params ** 2)\n",
    "    theta_term = np.sum(Theta_params ** 2)\n",
    "    return (lmbda /2) * (theta_term + x_term)"
   ]
  },
  {
   "cell_type": "markdown",
   "metadata": {},
   "source": [
    "### Regularized gradient"
   ]
  },
  {
   "cell_type": "code",
   "execution_count": 1779,
   "metadata": {
    "ExecuteTime": {
     "end_time": "2019-07-26T22:33:35.444332Z",
     "start_time": "2019-07-26T22:33:35.441371Z"
    }
   },
   "outputs": [],
   "source": [
    "def regularized_gradient(Theta_params, X_params, lmbda):\n",
    "    dJdx_term = lmbda * X_params\n",
    "    dJdTheta_term = lmbda * Theta_params\n",
    "    return dJdx_term, dJdTheta_term"
   ]
  },
  {
   "cell_type": "markdown",
   "metadata": {},
   "source": [
    "## Learning movie recommendations"
   ]
  },
  {
   "cell_type": "markdown",
   "metadata": {},
   "source": [
    "### Recommendations"
   ]
  },
  {
   "cell_type": "code",
   "execution_count": 1780,
   "metadata": {
    "ExecuteTime": {
     "end_time": "2019-07-26T22:33:35.631847Z",
     "start_time": "2019-07-26T22:33:35.623620Z"
    }
   },
   "outputs": [],
   "source": [
    "movies = pd.read_csv('./ex8/movie_ids.csv', header = None).replace(to_replace = '\\A\\d', \n",
    "                                                                   value = '', regex = True)[0]"
   ]
  },
  {
   "cell_type": "code",
   "execution_count": 1781,
   "metadata": {
    "ExecuteTime": {
     "end_time": "2019-07-26T22:33:35.635888Z",
     "start_time": "2019-07-26T22:33:35.633480Z"
    }
   },
   "outputs": [],
   "source": [
    "my_ratings = np.zeros((Y.shape[0], 1))"
   ]
  },
  {
   "cell_type": "markdown",
   "metadata": {},
   "source": [
    "### Set sample recommendations"
   ]
  },
  {
   "cell_type": "code",
   "execution_count": 1782,
   "metadata": {
    "ExecuteTime": {
     "end_time": "2019-07-26T22:33:35.711260Z",
     "start_time": "2019-07-26T22:33:35.707866Z"
    }
   },
   "outputs": [],
   "source": [
    "my_ratings[7] = 3;\n",
    "my_ratings[12]= 5;\n",
    "my_ratings[54] = 4;\n",
    "my_ratings[64]= 5;\n",
    "my_ratings[66]= 3;\n",
    "my_ratings[69] = 5;\n",
    "my_ratings[183] = 4;\n",
    "my_ratings[226] = 5;\n",
    "my_ratings[355]= 5;"
   ]
  },
  {
   "cell_type": "code",
   "execution_count": 1783,
   "metadata": {
    "ExecuteTime": {
     "end_time": "2019-07-26T22:33:35.720094Z",
     "start_time": "2019-07-26T22:33:35.712703Z"
    }
   },
   "outputs": [
    {
     "name": "stdout",
     "output_type": "stream",
     "text": [
      "Rated 3.0 for  Babe (1995)\n",
      "Rated 5.0 for 3 Mighty Aphrodite (1995)\n",
      "Rated 4.0 for 5 Professional\n",
      "Rated 5.0 for 5 What's Eating Gilbert Grape (1993)\n",
      "Rated 3.0 for 7 Ace Ventura: Pet Detective (1994)\n",
      "Rated 5.0 for 0 Four Weddings and a Funeral (1994)\n",
      "Rated 4.0 for 84 Army of Darkness (1993)\n",
      "Rated 5.0 for 27 Star Trek VI: The Undiscovered Country (1991)\n",
      "Rated 5.0 for 56 Client\n"
     ]
    }
   ],
   "source": [
    "for rating in range(len(my_ratings)):\n",
    "    if my_ratings[rating] > 0:\n",
    "        print(f'Rated {my_ratings[rating][0]} for {movies[rating]}')"
   ]
  },
  {
   "cell_type": "markdown",
   "metadata": {},
   "source": [
    "### Learning Movie Ratings"
   ]
  },
  {
   "cell_type": "code",
   "execution_count": 1784,
   "metadata": {
    "ExecuteTime": {
     "end_time": "2019-07-26T22:33:35.785311Z",
     "start_time": "2019-07-26T22:33:35.782902Z"
    }
   },
   "outputs": [],
   "source": [
    "r = np.zeros(my_ratings.shape)\n",
    "r[my_ratings > 0] = 1"
   ]
  },
  {
   "cell_type": "code",
   "execution_count": 1785,
   "metadata": {
    "ExecuteTime": {
     "end_time": "2019-07-26T22:33:35.801004Z",
     "start_time": "2019-07-26T22:33:35.786959Z"
    }
   },
   "outputs": [],
   "source": [
    "Y = np.hstack((my_ratings, Y))\n",
    "R = np.hstack((r, R))"
   ]
  },
  {
   "cell_type": "code",
   "execution_count": 1786,
   "metadata": {
    "ExecuteTime": {
     "end_time": "2019-07-26T22:33:35.805039Z",
     "start_time": "2019-07-26T22:33:35.802568Z"
    }
   },
   "outputs": [],
   "source": [
    "num_movies = Y.shape[0];\n",
    "num_users = Y.shape[1];\n",
    "num_features = 10"
   ]
  },
  {
   "cell_type": "code",
   "execution_count": 1787,
   "metadata": {
    "ExecuteTime": {
     "end_time": "2019-07-26T22:54:55.238390Z",
     "start_time": "2019-07-26T22:54:55.234589Z"
    }
   },
   "outputs": [],
   "source": [
    "X_rand = np.random.random((num_movies, num_features))\n",
    "theta_rand = np.random.random((num_users, num_features))\n",
    "params = np.concatenate((theta_rand.flatten(), X_rand.flatten()))\n"
   ]
  },
  {
   "cell_type": "code",
   "execution_count": 1788,
   "metadata": {},
   "outputs": [],
   "source": [
    "def normalize(Y, R):\n",
    "    Y = Y * R\n",
    "    return Y - np.mean(Y, 0), np.mean(Y, 0)"
   ]
  },
  {
   "cell_type": "code",
   "execution_count": 1789,
   "metadata": {},
   "outputs": [],
   "source": [
    "def cofiCostFunc(params, Y, R, lmbda, num_users, num_movies, num_features):\n",
    "    \n",
    "    # reshape the parameter array into parameter matrices\n",
    "\n",
    "    theta_params = params[:num_users * num_features]  \n",
    "    X_params = params[len(theta_params):].reshape((num_movies, num_features))\n",
    "    Theta_params = theta_params.reshape((num_users, num_features))\n",
    "    \n",
    "    Y = Y[:num_movies, :num_users]\n",
    "    R = R[:num_movies, :num_users]\n",
    "\n",
    "\n",
    "    h = Theta_params @ X_params.T\n",
    "    cost = h - Y.T\n",
    "    cost = cost * R.T\n",
    "    sq_cost = cost ** 2\n",
    "    J = round(0.5 * np.sum(sq_cost), 2)\n",
    "    \n",
    "    # calculate the gradients\n",
    "    X_grad = cost.T @ Theta_params\n",
    "    Theta_grad = cost @ X_params\n",
    "    \n",
    "    x_term, theta_term = regularized_gradient(Theta_params, X_params, lmbda)\n",
    "    \n",
    "    X_grad += x_term\n",
    "    Theta_grad += theta_term\n",
    "    \n",
    "    grad = np.concatenate((np.ravel(X_grad), np.ravel(Theta_grad)))\n",
    "    \n",
    "    reg_cost = regularized_cost(Theta_params, X_params, lmbda)\n",
    "    \n",
    "    \n",
    "    return J + reg_cost, grad"
   ]
  },
  {
   "cell_type": "code",
   "execution_count": 1790,
   "metadata": {
    "ExecuteTime": {
     "end_time": "2019-07-26T22:56:17.664688Z",
     "start_time": "2019-07-26T22:56:17.662203Z"
    }
   },
   "outputs": [],
   "source": [
    "def costFunc(initial_parameters):\n",
    "    # (Theta_params, X_params), Y, R, lmbda, num_users, num_movies, num_features\n",
    "    return cofiCostFunc(initial_parameters, Y, R, 10, num_users, num_movies, num_features)"
   ]
  },
  {
   "cell_type": "code",
   "execution_count": 1791,
   "metadata": {},
   "outputs": [],
   "source": [
    "Y, Ymean = normalize(Y, R)"
   ]
  },
  {
   "cell_type": "code",
   "execution_count": 1792,
   "metadata": {
    "ExecuteTime": {
     "end_time": "2019-07-26T22:56:17.972282Z",
     "start_time": "2019-07-26T22:56:17.970126Z"
    }
   },
   "outputs": [],
   "source": [
    "from scipy.optimize import minimize"
   ]
  },
  {
   "cell_type": "code",
   "execution_count": 1793,
   "metadata": {
    "ExecuteTime": {
     "end_time": "2019-07-26T22:56:18.387090Z",
     "start_time": "2019-07-26T22:56:18.353689Z"
    },
    "scrolled": true
   },
   "outputs": [],
   "source": [
    "results = minimize(costFunc, x0=params, method=\"L-BFGS-B\", jac=True)\n",
    "theta = results[\"x\"]"
   ]
  },
  {
   "cell_type": "code",
   "execution_count": 1794,
   "metadata": {},
   "outputs": [],
   "source": [
    "Thetas = theta[:num_users * num_features].reshape((num_users, num_features))"
   ]
  },
  {
   "cell_type": "code",
   "execution_count": 1795,
   "metadata": {},
   "outputs": [],
   "source": [
    "preds = (X_params @ Thetas.T) + Ymean"
   ]
  },
  {
   "cell_type": "code",
   "execution_count": 1796,
   "metadata": {},
   "outputs": [],
   "source": [
    "pred_idxs = np.argsort(preds[:, 0])[::-1][:10]"
   ]
  },
  {
   "cell_type": "markdown",
   "metadata": {},
   "source": [
    "### Model Evaluation"
   ]
  },
  {
   "cell_type": "code",
   "execution_count": 1798,
   "metadata": {},
   "outputs": [
    {
     "name": "stdout",
     "output_type": "stream",
     "text": [
      "Predicted 3.3 for movie: 43 Sound of Music\n",
      "Predicted 2.9 for movie: 75 Sense and Sensibility (1995)\n",
      "Predicted 2.8 for movie: 85 My Fair Lady (1964)\n",
      "Predicted 2.8 for movie: 19 Mary Poppins (1964)\n",
      "Predicted 2.7 for movie: 96 It's a Wonderful Life (1946)\n",
      "Predicted 2.7 for movie: 33 Gone with the Wind (1939)\n",
      "Predicted 2.7 for movie: 13 Room with a View\n",
      "Predicted 2.6 for movie: 40 Jane Eyre (1996)\n",
      "Predicted 2.6 for movie: 24 Lost Highway (1997)\n",
      "Predicted 2.6 for movie: 23 E.T. the Extra-Terrestrial (1982)\n"
     ]
    }
   ],
   "source": [
    "for idx in pred_idxs:\n",
    "    print(f'Predicted {round(preds[:, 0][idx], 1)} for movie: {movies[idx]}')"
   ]
  },
  {
   "cell_type": "code",
   "execution_count": null,
   "metadata": {},
   "outputs": [],
   "source": []
  }
 ],
 "metadata": {
  "hide_input": false,
  "kernelspec": {
   "display_name": "Python 3",
   "language": "python",
   "name": "python3"
  },
  "language_info": {
   "codemirror_mode": {
    "name": "ipython",
    "version": 3
   },
   "file_extension": ".py",
   "mimetype": "text/x-python",
   "name": "python",
   "nbconvert_exporter": "python",
   "pygments_lexer": "ipython3",
   "version": "3.7.3"
  },
  "toc": {
   "base_numbering": 1,
   "nav_menu": {},
   "number_sections": true,
   "sideBar": true,
   "skip_h1_title": false,
   "title_cell": "Table of Contents",
   "title_sidebar": "Contents",
   "toc_cell": false,
   "toc_position": {},
   "toc_section_display": true,
   "toc_window_display": false
  }
 },
 "nbformat": 4,
 "nbformat_minor": 2
}
